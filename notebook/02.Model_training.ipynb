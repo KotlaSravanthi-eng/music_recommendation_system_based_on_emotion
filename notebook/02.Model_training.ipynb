{
 "cells": [
  {
   "cell_type": "code",
   "execution_count": 242,
   "id": "7892882a",
   "metadata": {},
   "outputs": [],
   "source": [
    "#### import required packages\n",
    "import pandas as pd\n",
    "import numpy as np\n",
    "import matplotlib.pyplot as plt\n",
    "import seaborn as sns\n",
    "%matplotlib inline\n",
    "\n",
    "from sklearn.preprocessing import PowerTransformer\n",
    "from sklearn.feature_extraction.text import TfidfVectorizer"
   ]
  },
  {
   "cell_type": "code",
   "execution_count": 243,
   "id": "62317829",
   "metadata": {},
   "outputs": [],
   "source": [
    "data = pd.read_csv('cleaned_data.csv')"
   ]
  },
  {
   "cell_type": "code",
   "execution_count": 244,
   "id": "982d39ea",
   "metadata": {},
   "outputs": [
    {
     "name": "stdout",
     "output_type": "stream",
     "text": [
      "<class 'pandas.core.frame.DataFrame'>\n",
      "RangeIndex: 244689 entries, 0 to 244688\n",
      "Data columns (total 30 columns):\n",
      " #   Column                    Non-Null Count   Dtype  \n",
      "---  ------                    --------------   -----  \n",
      " 0   Artist(s)                 244689 non-null  object \n",
      " 1   song                      244689 non-null  object \n",
      " 2   text                      244689 non-null  object \n",
      " 3   emotion                   244689 non-null  object \n",
      " 4   Tempo                     244689 non-null  int64  \n",
      " 5   Loudness (db)             244689 non-null  float64\n",
      " 6   Energy                    244689 non-null  int64  \n",
      " 7   Danceability              244689 non-null  int64  \n",
      " 8   Positiveness              244689 non-null  int64  \n",
      " 9   Speechiness               244689 non-null  int64  \n",
      " 10  Liveness                  244689 non-null  int64  \n",
      " 11  Acousticness              244689 non-null  int64  \n",
      " 12  Instrumentalness          244689 non-null  int64  \n",
      " 13  Good for Party            244689 non-null  int64  \n",
      " 14  Good for Work/Study       244689 non-null  int64  \n",
      " 15  Good for Exercise         244689 non-null  int64  \n",
      " 16  Good for Running          244689 non-null  int64  \n",
      " 17  Good for Driving          244689 non-null  int64  \n",
      " 18  Good for Morning Routine  244689 non-null  int64  \n",
      " 19  Similar Artist 1          244689 non-null  object \n",
      " 20  Similar Song 1            244689 non-null  object \n",
      " 21  Similarity Score 1        244689 non-null  float64\n",
      " 22  Similar Artist 2          244689 non-null  object \n",
      " 23  Similar Song 2            244689 non-null  object \n",
      " 24  Similarity Score 2        244689 non-null  float64\n",
      " 25  Similar Artist 3          244689 non-null  object \n",
      " 26  Similar Song 3            244689 non-null  object \n",
      " 27  Similarity Score 3        244689 non-null  float64\n",
      " 28  Good for Relaxation/Yoga  244689 non-null  int64  \n",
      " 29  Genre_str                 244689 non-null  object \n",
      "dtypes: float64(4), int64(15), object(11)\n",
      "memory usage: 56.0+ MB\n"
     ]
    }
   ],
   "source": [
    "data.info()"
   ]
  },
  {
   "cell_type": "code",
   "execution_count": 245,
   "id": "f148d692",
   "metadata": {},
   "outputs": [
    {
     "name": "stdout",
     "output_type": "stream",
     "text": [
      "🎤 Fully numeric artist names: []\n"
     ]
    }
   ],
   "source": [
    "# Fully numeric artist names\n",
    "fully_numeric = data['Artist(s)'][data['Artist(s)'].str.fullmatch(r'\\d+')]\n",
    "print(\"🎤 Fully numeric artist names:\", fully_numeric.unique().tolist())"
   ]
  },
  {
   "cell_type": "code",
   "execution_count": 246,
   "id": "1fa3f55e",
   "metadata": {},
   "outputs": [],
   "source": [
    "data['Artist(s)'] = data['Artist(s)'].astype(str).str.lower().str.strip()\n",
    "data['Artist(s)'] = data['Artist(s)'].str.replace(r'\\$', 's', regex=True)\n",
    "data['Artist(s)'] = data['Artist(s)'].str.replace('4', 'a')"
   ]
  },
  {
   "cell_type": "code",
   "execution_count": 247,
   "id": "0ec405b0",
   "metadata": {},
   "outputs": [
    {
     "data": {
      "text/plain": [
       "Artist(s)\n",
       "lab              1427\n",
       "temm dogg         701\n",
       "kora              670\n",
       "shapeshifter      640\n",
       "home brew         606\n",
       "                 ... \n",
       "noah cyrus         25\n",
       "yung gravy         25\n",
       "eteeth             25\n",
       "ziggy alberts      25\n",
       "dragon             24\n",
       "Name: count, Length: 3719, dtype: int64"
      ]
     },
     "execution_count": 247,
     "metadata": {},
     "output_type": "execute_result"
    }
   ],
   "source": [
    "data['Artist(s)'].value_counts()"
   ]
  },
  {
   "cell_type": "code",
   "execution_count": 248,
   "id": "4017ba5a",
   "metadata": {},
   "outputs": [
    {
     "data": {
      "text/plain": [
       "np.int64(0)"
      ]
     },
     "execution_count": 248,
     "metadata": {},
     "output_type": "execute_result"
    }
   ],
   "source": [
    "data['Artist(s)'].isnull().sum()"
   ]
  },
  {
   "cell_type": "code",
   "execution_count": 249,
   "id": "61901360",
   "metadata": {},
   "outputs": [],
   "source": [
    "data.dropna(inplace=True)\n",
    "data.reset_index(drop = True, inplace=True)"
   ]
  },
  {
   "cell_type": "code",
   "execution_count": 250,
   "id": "1bdd3c9d",
   "metadata": {},
   "outputs": [
    {
     "name": "stdout",
     "output_type": "stream",
     "text": [
      "<class 'pandas.core.frame.DataFrame'>\n",
      "RangeIndex: 244689 entries, 0 to 244688\n",
      "Data columns (total 30 columns):\n",
      " #   Column                    Non-Null Count   Dtype  \n",
      "---  ------                    --------------   -----  \n",
      " 0   Artist(s)                 244689 non-null  object \n",
      " 1   song                      244689 non-null  object \n",
      " 2   text                      244689 non-null  object \n",
      " 3   emotion                   244689 non-null  object \n",
      " 4   Tempo                     244689 non-null  int64  \n",
      " 5   Loudness (db)             244689 non-null  float64\n",
      " 6   Energy                    244689 non-null  int64  \n",
      " 7   Danceability              244689 non-null  int64  \n",
      " 8   Positiveness              244689 non-null  int64  \n",
      " 9   Speechiness               244689 non-null  int64  \n",
      " 10  Liveness                  244689 non-null  int64  \n",
      " 11  Acousticness              244689 non-null  int64  \n",
      " 12  Instrumentalness          244689 non-null  int64  \n",
      " 13  Good for Party            244689 non-null  int64  \n",
      " 14  Good for Work/Study       244689 non-null  int64  \n",
      " 15  Good for Exercise         244689 non-null  int64  \n",
      " 16  Good for Running          244689 non-null  int64  \n",
      " 17  Good for Driving          244689 non-null  int64  \n",
      " 18  Good for Morning Routine  244689 non-null  int64  \n",
      " 19  Similar Artist 1          244689 non-null  object \n",
      " 20  Similar Song 1            244689 non-null  object \n",
      " 21  Similarity Score 1        244689 non-null  float64\n",
      " 22  Similar Artist 2          244689 non-null  object \n",
      " 23  Similar Song 2            244689 non-null  object \n",
      " 24  Similarity Score 2        244689 non-null  float64\n",
      " 25  Similar Artist 3          244689 non-null  object \n",
      " 26  Similar Song 3            244689 non-null  object \n",
      " 27  Similarity Score 3        244689 non-null  float64\n",
      " 28  Good for Relaxation/Yoga  244689 non-null  int64  \n",
      " 29  Genre_str                 244689 non-null  object \n",
      "dtypes: float64(4), int64(15), object(11)\n",
      "memory usage: 56.0+ MB\n"
     ]
    }
   ],
   "source": [
    "data.info()"
   ]
  },
  {
   "cell_type": "markdown",
   "id": "3c2775f7",
   "metadata": {},
   "source": [
    "#### 4.2 **Power Transformer for Skewed Audio Features**"
   ]
  },
  {
   "cell_type": "markdown",
   "id": "978ffc3f",
   "metadata": {},
   "source": [
    "* we need to apply power transformer to the heavily skewed features like `instrumentalness`, `liveness`, `speechiness`, `loudness (db)` and `acousticness`."
   ]
  },
  {
   "cell_type": "code",
   "execution_count": 251,
   "id": "d2c9814d",
   "metadata": {},
   "outputs": [
    {
     "data": {
      "image/png": "[encoded data removed]",
      "text/plain": [
       "<Figure size 640x480 with 1 Axes>"
      ]
     },
     "metadata": {},
     "output_type": "display_data"
    },
    {
     "data": {
      "image/png": "[encoded data removed]",
      "text/plain": [
       "<Figure size 640x480 with 1 Axes>"
      ]
     },
     "metadata": {},
     "output_type": "display_data"
    },
    {
     "data": {
      "image/png": "[encoded data removed]",
      "text/plain": [
       "<Figure size 640x480 with 1 Axes>"
      ]
     },
     "metadata": {},
     "output_type": "display_data"
    },
    {
     "data": {
      "image/png": "[encoded data removed]",
      "text/plain": [
       "<Figure size 640x480 with 1 Axes>"
      ]
     },
     "metadata": {},
     "output_type": "display_data"
    },
    {
     "data": {
      "image/png": "[encoded data removed]",
      "text/plain": [
       "<Figure size 640x480 with 1 Axes>"
      ]
     },
     "metadata": {},
     "output_type": "display_data"
    }
   ],
   "source": [
    "#### Applying power transformer to the skewed audio features.\n",
    "pt = PowerTransformer(method='yeo-johnson')\n",
    "\n",
    "cols_to_transform = ['Liveness', 'Speechiness', 'Instrumentalness', 'Acousticness', 'Loudness (db)']\n",
    "\n",
    "scaled_audio = pt.fit_transform(data[cols_to_transform])\n",
    "data[cols_to_transform] = scaled_audio\n",
    "\n",
    "cols_to_transform = ['Liveness', 'Speechiness', 'Instrumentalness', 'Acousticness', 'Loudness (db)']\n",
    "for feature in cols_to_transform:\n",
    "    sns.histplot(data[feature], kde=True)\n",
    "    plt.title(f'Distribution of {feature}')\n",
    "    plt.show()"
   ]
  },
  {
   "cell_type": "code",
   "execution_count": 252,
   "id": "e7b0c60f",
   "metadata": {},
   "outputs": [
    {
     "data": {
      "image/png": "[encoded data removed]",
      "text/plain": [
       "<Figure size 640x480 with 1 Axes>"
      ]
     },
     "metadata": {},
     "output_type": "display_data"
    }
   ],
   "source": [
    "# apply log1p to instrumentalness first \n",
    "data[['Instrumentalness']] = np.log1p(data[['Instrumentalness']])\n",
    "\n",
    "pt = PowerTransformer()\n",
    "data[['Instrumentalness']] = pt.fit_transform(data[['Instrumentalness']])\n",
    "\n",
    "\n",
    "sns.histplot(data['Instrumentalness'], kde=True)\n",
    "plt.title(f'Distribution of Instrumentalness')\n",
    "plt.show()"
   ]
  },
  {
   "cell_type": "markdown",
   "id": "d6c5d0a0",
   "metadata": {},
   "source": [
    "* Even after applying `log1p` and `power transformer` it doesn't change anything. so i will keep `Instrumentalness` as it is."
   ]
  },
  {
   "cell_type": "markdown",
   "id": "de8b1fbf",
   "metadata": {},
   "source": [
    "#### 4.3 **TF-IDF on text Columns**"
   ]
  },
  {
   "cell_type": "code",
   "execution_count": 253,
   "id": "bfe8b7a9",
   "metadata": {},
   "outputs": [],
   "source": [
    "### Applying tf-idf on text columns \n",
    "data['combined_text'] = (\n",
    "    data['text'] + \" \" +\n",
    "    data['emotion'] + \" \" +\n",
    "    data['Genre_str'] + \" \" +\n",
    "    data['Artist(s)']\n",
    ")\n",
    "\n",
    "tfidf = TfidfVectorizer(max_features=5000, stop_words='english') \n",
    "tfidf_matrix = tfidf.fit_transform(data['combined_text'])"
   ]
  },
  {
   "cell_type": "code",
   "execution_count": 254,
   "id": "cb31ded4",
   "metadata": {},
   "outputs": [],
   "source": [
    "similar_context_series = (\n",
    "    data['Similar Artist 1']+ ' ' +\n",
    "    data['Similar Artist 2']+ ' ' +\n",
    "    data['Similar Artist 3']+ ' ' +\n",
    "    data['Similar Song 1']+ ' ' +\n",
    "    data['Similar Song 2']+ ' ' +\n",
    "    data['Similar Song 3']\n",
    ")\n",
    "\n",
    "tfidf_similar = TfidfVectorizer(max_features=5000, stop_words=\"english\")\n",
    "similar_vectors = tfidf_similar.fit_transform(similar_context_series)"
   ]
  },
  {
   "cell_type": "markdown",
   "id": "0be08eaa",
   "metadata": {},
   "source": [
    "#### 4.4 **Combine TF-IDF & Scaled Audio features**"
   ]
  },
  {
   "cell_type": "code",
   "execution_count": 255,
   "id": "08ab506c",
   "metadata": {},
   "outputs": [
    {
     "name": "stdout",
     "output_type": "stream",
     "text": [
      "244689 <Compressed Sparse Row sparse matrix of dtype 'float64'\n",
      "\twith 8 stored elements and shape (1, 5000)>\n",
      "  Coords\tValues\n",
      "  (0, 4812)\t0.5010175889894849\n",
      "  (0, 115)\t0.46817623652261225\n",
      "  (0, 4945)\t0.5211004095258948\n",
      "  (0, 2314)\t0.24540070650480814\n",
      "  (0, 3268)\t0.2728923607915389\n",
      "  (0, 1734)\t0.19618757425147942\n",
      "  (0, 2299)\t0.2497651406179686\n",
      "  (0, 3619)\t0.15060814446967896 244689\n"
     ]
    }
   ],
   "source": [
    "### Checking the shape od the tfidf matrix and scaled audio \n",
    "print(tfidf_matrix.shape[0], similar_vectors[0], scaled_audio.shape[0]) "
   ]
  },
  {
   "cell_type": "code",
   "execution_count": 256,
   "id": "91338cd5",
   "metadata": {},
   "outputs": [],
   "source": [
    "from scipy.sparse import hstack\n",
    "\n",
    "# Combine into one final feature set for cosine similarity\n",
    "final_matrix = hstack([tfidf_matrix, similar_vectors, scaled_audio])"
   ]
  },
  {
   "cell_type": "code",
   "execution_count": 257,
   "id": "a4d0dab9",
   "metadata": {},
   "outputs": [
    {
     "name": "stdout",
     "output_type": "stream",
     "text": [
      "<class 'pandas.core.frame.DataFrame'>\n",
      "RangeIndex: 244689 entries, 0 to 244688\n",
      "Data columns (total 31 columns):\n",
      " #   Column                    Non-Null Count   Dtype  \n",
      "---  ------                    --------------   -----  \n",
      " 0   Artist(s)                 244689 non-null  object \n",
      " 1   song                      244689 non-null  object \n",
      " 2   text                      244689 non-null  object \n",
      " 3   emotion                   244689 non-null  object \n",
      " 4   Tempo                     244689 non-null  int64  \n",
      " 5   Loudness (db)             244689 non-null  float64\n",
      " 6   Energy                    244689 non-null  int64  \n",
      " 7   Danceability              244689 non-null  int64  \n",
      " 8   Positiveness              244689 non-null  int64  \n",
      " 9   Speechiness               244689 non-null  float64\n",
      " 10  Liveness                  244689 non-null  float64\n",
      " 11  Acousticness              244689 non-null  float64\n",
      " 12  Instrumentalness          244689 non-null  float64\n",
      " 13  Good for Party            244689 non-null  int64  \n",
      " 14  Good for Work/Study       244689 non-null  int64  \n",
      " 15  Good for Exercise         244689 non-null  int64  \n",
      " 16  Good for Running          244689 non-null  int64  \n",
      " 17  Good for Driving          244689 non-null  int64  \n",
      " 18  Good for Morning Routine  244689 non-null  int64  \n",
      " 19  Similar Artist 1          244689 non-null  object \n",
      " 20  Similar Song 1            244689 non-null  object \n",
      " 21  Similarity Score 1        244689 non-null  float64\n",
      " 22  Similar Artist 2          244689 non-null  object \n",
      " 23  Similar Song 2            244689 non-null  object \n",
      " 24  Similarity Score 2        244689 non-null  float64\n",
      " 25  Similar Artist 3          244689 non-null  object \n",
      " 26  Similar Song 3            244689 non-null  object \n",
      " 27  Similarity Score 3        244689 non-null  float64\n",
      " 28  Good for Relaxation/Yoga  244689 non-null  int64  \n",
      " 29  Genre_str                 244689 non-null  object \n",
      " 30  combined_text             244689 non-null  object \n",
      "dtypes: float64(8), int64(11), object(12)\n",
      "memory usage: 57.9+ MB\n"
     ]
    }
   ],
   "source": [
    "data.info()"
   ]
  },
  {
   "cell_type": "markdown",
   "id": "7aefe919",
   "metadata": {},
   "source": [
    "#### **4.5 Handle User Query Input**"
   ]
  },
  {
   "cell_type": "code",
   "execution_count": 258,
   "id": "eee7661f",
   "metadata": {},
   "outputs": [
    {
     "data": {
      "text/plain": [
       "array(['joy', 'anger', 'sadness', 'fear', 'surprise', 'love'],\n",
       "      dtype=object)"
      ]
     },
     "execution_count": 258,
     "metadata": {},
     "output_type": "execute_result"
    }
   ],
   "source": [
    "data['emotion'].unique()"
   ]
  },
  {
   "cell_type": "code",
   "execution_count": 259,
   "id": "53abbccd",
   "metadata": {},
   "outputs": [],
   "source": [
    "import re\n",
    "import spacy\n",
    "nlp = spacy.load(\"en_core_web_sm\")\n",
    "\n",
    "# Define allowed dataset moods\n",
    "available_moods = ['joy', 'sadness', 'anger', 'fear', 'surprise', 'love']\n",
    "\n",
    "# Mapping user moods to dataset moods\n",
    "mood_map = {\n",
    "    'happy': 'joy',\n",
    "    'calm': 'love',\n",
    "    'relaxed': 'joy',\n",
    "    'peaceful': 'joy',\n",
    "    'romantic': 'love',\n",
    "    'chill': 'joy',\n",
    "    'energetic': 'surprise',\n",
    "    'excited': 'surprise',\n",
    "    'angry': 'anger',\n",
    "    'depressed': 'sadness',\n",
    "    'bored': 'sadness',\n",
    "    'sad': 'sadness',\n",
    "    'fearful': 'fear'\n",
    "}\n",
    "\n",
    "def extract_mood_artist_spacy(user_input, known_artists):\n",
    "    doc = nlp(user_input.lower())\n",
    "    user_input_lower = user_input.lower()\n",
    "\n",
    "    # 1. Detect mood\n",
    "    mood = \"\"\n",
    "    for word in user_input_lower.split():\n",
    "        if word in mood_map:\n",
    "            mood = mood_map[word]\n",
    "            break\n",
    "        elif word in available_moods:\n",
    "            mood = word\n",
    "            break\n",
    "\n",
    "    # 2. Detect artist\n",
    "    artist = \"\"\n",
    "    for known_artist in known_artists:\n",
    "        pattern = r'\\b' + re.escape(known_artist) + r'\\b'\n",
    "        if re.search(pattern, user_input_lower):\n",
    "            artist = known_artist\n",
    "            break\n",
    "\n",
    "    return mood, artist\n"
   ]
  },
  {
   "cell_type": "code",
   "execution_count": 260,
   "id": "c56c5463",
   "metadata": {},
   "outputs": [
    {
     "name": "stdout",
     "output_type": "stream",
     "text": [
      "Mapped mood: sadness\n",
      "Artist: mayday\n"
     ]
    }
   ],
   "source": [
    "known_artists = data['Artist(s)'].str.lower().str.strip().unique().tolist()\n",
    "\n",
    "user_input = \"I'm feeling sad give me songs from mayday artist\"\n",
    "mood, artist = extract_mood_artist_spacy(user_input, known_artists)\n",
    "\n",
    "print(\"Mapped mood:\", mood)    \n",
    "print(\"Artist:\", artist) "
   ]
  },
  {
   "cell_type": "code",
   "execution_count": 261,
   "id": "b83b2e49",
   "metadata": {},
   "outputs": [
    {
     "name": "stdout",
     "output_type": "stream",
     "text": [
      "🎤 Fully numeric artist names: []\n"
     ]
    }
   ],
   "source": [
    "# Fully numeric artist names\n",
    "fully_numeric = data['Artist(s)'][data['Artist(s)'].str.fullmatch(r'\\d+')]\n",
    "print(\"🎤 Fully numeric artist names:\", fully_numeric.unique().tolist())"
   ]
  },
  {
   "cell_type": "code",
   "execution_count": 262,
   "id": "d1b79541",
   "metadata": {},
   "outputs": [
    {
     "data": {
      "text/plain": [
       "array(['weird al yankovic', 'uicideboy', 'hed pe', ..., 'zz top',\n",
       "       'mayday', 'sunset rollercoaster'], shape=(3719,), dtype=object)"
      ]
     },
     "execution_count": 262,
     "metadata": {},
     "output_type": "execute_result"
    }
   ],
   "source": [
    "data['Artist(s)'].unique()"
   ]
  },
  {
   "cell_type": "code",
   "execution_count": 263,
   "id": "74c04538",
   "metadata": {},
   "outputs": [],
   "source": [
    "data['Artist(s)'] = data['Artist(s)'].str.lower().str.strip()"
   ]
  },
  {
   "cell_type": "markdown",
   "id": "08c0cc7c",
   "metadata": {},
   "source": [
    "#### **5.Building Recommendation Logic Using Cosine Similarity**"
   ]
  },
  {
   "cell_type": "code",
   "execution_count": 264,
   "id": "482d5983",
   "metadata": {},
   "outputs": [],
   "source": [
    "### Create Similar Song Dictionary\n",
    "from collections import defaultdict\n",
    "\n",
    "similar_song = defaultdict(dict)\n",
    "\n",
    "for idx, row in data.iterrows():\n",
    "    base_song = row['song']\n",
    "    for i in range(1,4):\n",
    "        sim_song = row[f'Similar Song {i}']\n",
    "        sim_score = row[f'Similarity Score {i}']\n",
    "        if pd.notnull(sim_song):\n",
    "            similar_song[base_song][sim_song] = sim_score"
   ]
  },
  {
   "cell_type": "code",
   "execution_count": 265,
   "id": "8c7567d9",
   "metadata": {},
   "outputs": [
    {
     "data": {
      "text/plain": [
       "Artist(s)\n",
       "lab              1427\n",
       "temm dogg         701\n",
       "kora              670\n",
       "shapeshifter      640\n",
       "home brew         606\n",
       "                 ... \n",
       "noah cyrus         25\n",
       "yung gravy         25\n",
       "eteeth             25\n",
       "ziggy alberts      25\n",
       "dragon             24\n",
       "Name: count, Length: 3719, dtype: int64"
      ]
     },
     "execution_count": 265,
     "metadata": {},
     "output_type": "execute_result"
    }
   ],
   "source": [
    "data['Artist(s)'].value_counts()"
   ]
  },
  {
   "cell_type": "code",
   "execution_count": 267,
   "id": "da745d0f",
   "metadata": {},
   "outputs": [
    {
     "data": {
      "text/plain": [
       "array(['weird al yankovic', 'uicideboy', 'hed pe', ..., 'zz top',\n",
       "       'mayday', 'sunset rollercoaster'], shape=(3719,), dtype=object)"
      ]
     },
     "execution_count": 267,
     "metadata": {},
     "output_type": "execute_result"
    }
   ],
   "source": [
    "data['Artist(s)'].unique()"
   ]
  },
  {
   "cell_type": "code",
   "execution_count": null,
   "id": "f7a15853",
   "metadata": {},
   "outputs": [],
   "source": [
    "from sklearn.metrics.pairwise import cosine_similarity\n",
    "from scipy.sparse import hstack\n",
    "\n",
    "\n",
    "def get_recommendations(user_input, top_n=5):\n",
    "    # Extract mood and artist using spaCy\n",
    "    mood, artist = extract_mood_artist_spacy(user_input, known_artists)\n",
    "\n",
    "    # Detect activity \n",
    "    activity_map = {\n",
    "        \"party\": \"Good for Party\",\n",
    "        \"reading\": \"Good for Work/Study\",\n",
    "        \"study\": \"Good for Work/Study\",\n",
    "        \"exercise\": \"Good for Exercise\",\n",
    "        \"running\": \"Good for Running\",\n",
    "        \"driving\": \"Good for Driving\",\n",
    "        \"morning\": \"Good for Morning Routine\",\n",
    "        \"relaxation\": \"Good for Relaxation/Yoga\",\n",
    "        \"yoga\": \"Good for Relaxation/Yoga\",\n",
    "        \"meditation\": \"Good for Relaxation/Yoga\"\n",
    "    }\n",
    "\n",
    "    activity_col = \"\"\n",
    "    for key, col in activity_map.items():\n",
    "        if key in user_input.lower():\n",
    "            activity_col = col\n",
    "            break\n",
    "\n",
    "    # TF-IDF vector for mood + input text\n",
    "    search_text = f\"{mood} {user_input}\" if mood else user_input\n",
    "    mood_vector = tfidf.transform([search_text])\n",
    "\n",
    "    sim_context_input = artist if artist else mood or user_input\n",
    "    sim_context_vector = tfidf_similar.transform([sim_context_input])\n",
    "    \n",
    "    avg_audio_vec = np.mean(scaled_audio, axis=0).reshape(1, -1)\n",
    "\n",
    "    # 2. Stack them\n",
    "    user_vector = hstack([mood_vector, sim_context_vector, avg_audio_vec])\n",
    "\n",
    "    # 3. Compute similarity\n",
    "    final_scores = cosine_similarity(user_vector, final_matrix).flatten()\n",
    "\n",
    "    # Apply optional activity column filter\n",
    "    if activity_col:\n",
    "        activity_mask = data[activity_col] == 1\n",
    "        final_scores *= activity_mask.astype(int).values\n",
    "\n",
    "    # Boost scores of songs from the mentioned artist\n",
    "    if artist:\n",
    "        artist_mask = data['Artist(s)'].str.lower() == artist.lower()\n",
    "        final_scores += artist_mask.astype(int).values * 0.25  \n",
    "\n",
    "   # Get top N recommended songs (main DataFrame)\n",
    "    top_indices = final_scores.argsort()[::-1][:top_n]\n",
    "    results = data.iloc[top_indices][['song', 'Artist(s)', 'emotion', 'Genre_str']].copy()\n",
    "    results['similarity_score'] = final_scores[top_indices]\n",
    "\n",
    "    # Collect similar songs and artists from top recommendations\n",
    "    all_similar_songs = set()\n",
    "    all_similar_artists = set()\n",
    "\n",
    "    for _, row in results.iterrows():\n",
    "        song = row['song']\n",
    "        original_artist = row['Artist(s)'].strip().lower()\n",
    "\n",
    "        # Get similar song\n",
    "        sim_song = list(similar_song.get(song, {}).keys())[:3]\n",
    "        all_similar_songs.update(sim_song)\n",
    "\n",
    "        # Genre-based similar artists\n",
    "        song_genres = row['Genre_str'].split()\n",
    "        genre_mask = data['Genre_str'].apply(lambda x: any(g in x.split() for g in song_genres))\n",
    "\n",
    "        exclude_artists = {original_artist}\n",
    "        if artist:\n",
    "            exclude_artists.add(artist.strip().lower())\n",
    "\n",
    "        candidate_artists = data[genre_mask]['Artist(s)'].str.lower().unique().tolist()\n",
    "        filtered_artists = [a for a in candidate_artists if a not in exclude_artists]\n",
    "\n",
    "        all_similar_artists.update(filtered_artists[:10])  # Collect more, filter later\n",
    "\n",
    "    # Final top 5 unique similar songs and artists\n",
    "    final_similar_songs = list(all_similar_songs)[:5]\n",
    "    final_similar_artists = list(all_similar_artists)[:5]\n",
    "\n",
    "    return results, final_similar_songs, final_similar_artists"
   ]
  },
  {
   "cell_type": "code",
   "execution_count": 308,
   "id": "ae9c7868",
   "metadata": {},
   "outputs": [
    {
     "name": "stdout",
     "output_type": "stream",
     "text": [
      "\n",
      " Final Recommendations:\n",
      "                                   song          Artist(s) emotion  \\\n",
      "20761                        Love Songs  benjamin ingrosso     joy   \n",
      "95830                       Modern Soul        james blake     joy   \n",
      "229311  Songs About Me, Songs About You      uncle kracker     joy   \n",
      "135233             Life Is for Learning        marvin gaye    love   \n",
      "122054             Songs in the Kitchen          lee brice     joy   \n",
      "\n",
      "                              Genre_str  similarity_score  \n",
      "20761                               pop          0.293420  \n",
      "95830   electronic dubstep experimental          0.284678  \n",
      "229311                  rock pop hiphop          0.261165  \n",
      "135233                    pop funk soul          0.254459  \n",
      "122054                          country          0.252959  \n",
      "\n",
      " Top 5 Similar Songs:\n",
      " * Once Upon A Time\n",
      " * Goodbye\n",
      " * Urgency\n",
      " * Maybe Someday\n",
      " * Cross That Bridge\n",
      "\n",
      " Top 5 Similar Artists:\n",
      " * ashley mcbryde\n",
      " * astronautalis\n",
      " * l99l\n",
      " * hed pe\n",
      " * 2 live crew\n"
     ]
    }
   ],
   "source": [
    "user_input = \"songs from 1991\"\n",
    "recommendations_df, similar_songs, similar_artists = get_recommendations(user_input)\n",
    "\n",
    "print(\"\\n Final Recommendations:\")\n",
    "print(recommendations_df)\n",
    "\n",
    "print(\"\\n Top 5 Similar Songs:\")\n",
    "for s in similar_songs:\n",
    "    print(f\" * {s}\")\n",
    "\n",
    "print(\"\\n Top 5 Similar Artists:\")\n",
    "for a in similar_artists:\n",
    "    print(f\" * {a}\")"
   ]
  },
  {
   "cell_type": "code",
   "execution_count": 296,
   "id": "c235e968",
   "metadata": {},
   "outputs": [
    {
     "data": {
      "text/plain": [
       "Artist(s)\n",
       "lab              1427\n",
       "temm dogg         701\n",
       "kora              670\n",
       "shapeshifter      640\n",
       "home brew         606\n",
       "                 ... \n",
       "noah cyrus         25\n",
       "yung gravy         25\n",
       "eteeth             25\n",
       "ziggy alberts      25\n",
       "dragon             24\n",
       "Name: count, Length: 3719, dtype: int64"
      ]
     },
     "execution_count": 296,
     "metadata": {},
     "output_type": "execute_result"
    }
   ],
   "source": [
    "data['Artist(s)'].value_counts()"
   ]
  },
  {
   "cell_type": "code",
   "execution_count": 289,
   "id": "47416d68",
   "metadata": {},
   "outputs": [
    {
     "data": {
      "text/plain": [
       "25"
      ]
     },
     "execution_count": 289,
     "metadata": {},
     "output_type": "execute_result"
    }
   ],
   "source": [
    "data[data['Artist(s)'].str.lower() == 'eteeth'].shape[0]"
   ]
  },
  {
   "cell_type": "markdown",
   "id": "f3e96aeb",
   "metadata": {},
   "source": [
    "* Instead of strictly relying on emotion labels (e.g., joy, sadness), similar songs are recommended based on lyrical similarity using TF-IDF and cosine similarity. This allows the system to capture songs whose lyrics align more closely with the user’s mood, even if the labeled emotion differs."
   ]
  }
 ],
 "metadata": {
  "kernelspec": {
   "display_name": "music_env",
   "language": "python",
   "name": "python3"
  },
  "language_info": {
   "codemirror_mode": {
    "name": "ipython",
    "version": 3
   },
   "file_extension": ".py",
   "mimetype": "text/x-python",
   "name": "python",
   "nbconvert_exporter": "python",
   "pygments_lexer": "ipython3",
   "version": "3.12.4"
  }
 },
 "nbformat": 4,
 "nbformat_minor": 5
}
