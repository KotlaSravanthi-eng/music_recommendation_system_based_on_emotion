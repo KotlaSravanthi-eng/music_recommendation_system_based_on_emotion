{
 "cells": [
  {
   "cell_type": "code",
   "execution_count": 1,
   "id": "7892882a",
   "metadata": {},
   "outputs": [],
   "source": [
    "#### import required packages\n",
    "import pandas as pd\n",
    "import numpy as np\n",
    "import matplotlib.pyplot as plt\n",
    "import seaborn as sns\n",
    "%matplotlib inline\n",
    "\n",
    "from sklearn.preprocessing import PowerTransformer\n",
    "from sklearn.feature_extraction.text import TfidfVectorizer"
   ]
  },
  {
   "cell_type": "code",
   "execution_count": 2,
   "id": "62317829",
   "metadata": {},
   "outputs": [],
   "source": [
    "data = pd.read_csv('cleaned_data.csv')"
   ]
  },
  {
   "cell_type": "code",
   "execution_count": 3,
   "id": "982d39ea",
   "metadata": {},
   "outputs": [
    {
     "name": "stdout",
     "output_type": "stream",
     "text": [
      "<class 'pandas.core.frame.DataFrame'>\n",
      "RangeIndex: 171535 entries, 0 to 171534\n",
      "Data columns (total 31 columns):\n",
      " #   Column                    Non-Null Count   Dtype  \n",
      "---  ------                    --------------   -----  \n",
      " 0   Artist(s)                 171261 non-null  object \n",
      " 1   song                      171535 non-null  object \n",
      " 2   text                      171535 non-null  object \n",
      " 3   emotion                   171535 non-null  object \n",
      " 4   Genre                     171535 non-null  object \n",
      " 5   Tempo                     171535 non-null  int64  \n",
      " 6   Loudness (db)             171535 non-null  float64\n",
      " 7   Energy                    171535 non-null  int64  \n",
      " 8   Danceability              171535 non-null  int64  \n",
      " 9   Positiveness              171535 non-null  int64  \n",
      " 10  Speechiness               171535 non-null  int64  \n",
      " 11  Liveness                  171535 non-null  int64  \n",
      " 12  Acousticness              171535 non-null  int64  \n",
      " 13  Instrumentalness          171535 non-null  int64  \n",
      " 14  Good for Party            171535 non-null  int64  \n",
      " 15  Good for Work/Study       171535 non-null  int64  \n",
      " 16  Good for Exercise         171535 non-null  int64  \n",
      " 17  Good for Running          171535 non-null  int64  \n",
      " 18  Good for Driving          171535 non-null  int64  \n",
      " 19  Good for Morning Routine  171535 non-null  int64  \n",
      " 20  Similar Artist 1          171535 non-null  object \n",
      " 21  Similar Song 1            171535 non-null  object \n",
      " 22  Similarity Score 1        171535 non-null  float64\n",
      " 23  Similar Artist 2          171535 non-null  object \n",
      " 24  Similar Song 2            171535 non-null  object \n",
      " 25  Similarity Score 2        171535 non-null  float64\n",
      " 26  Similar Artist 3          171535 non-null  object \n",
      " 27  Similar Song 3            171535 non-null  object \n",
      " 28  Similarity Score 3        171535 non-null  float64\n",
      " 29  Good for Relaxation/Yoga  171535 non-null  int64  \n",
      " 30  Genre_str                 171535 non-null  object \n",
      "dtypes: float64(4), int64(15), object(12)\n",
      "memory usage: 40.6+ MB\n"
     ]
    }
   ],
   "source": [
    "data.info()"
   ]
  },
  {
   "cell_type": "code",
   "execution_count": null,
   "id": "4017ba5a",
   "metadata": {},
   "outputs": [],
   "source": []
  }
 ],
 "metadata": {
  "kernelspec": {
   "display_name": "Python 3",
   "language": "python",
   "name": "python3"
  },
  "language_info": {
   "codemirror_mode": {
    "name": "ipython",
    "version": 3
   },
   "file_extension": ".py",
   "mimetype": "text/x-python",
   "name": "python",
   "nbconvert_exporter": "python",
   "pygments_lexer": "ipython3",
   "version": "3.12.4"
  }
 },
 "nbformat": 4,
 "nbformat_minor": 5
}
